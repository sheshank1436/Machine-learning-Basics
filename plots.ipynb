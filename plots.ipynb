{
 "cells": [
  {
   "cell_type": "code",
   "execution_count": 3,
   "metadata": {},
   "outputs": [],
   "source": [
    "import sklearn\n",
    "import matplotlib.pyplot as plt\n",
    "%matplotlib inline\n",
    "import pandas as pd\n",
    "from sklearn.model_selection import train_test_split\n",
    "import numpy as np\n",
    "import seaborn as sns\n",
    "import re\n",
    "import nltk\n",
    "from nltk.corpus import stopwords\n",
    "from wordcloud import WordCloud,STOPWORDS"
   ]
  },
  {
   "cell_type": "code",
   "execution_count": 4,
   "metadata": {},
   "outputs": [
    {
     "data": {
      "text/html": [
       "<div>\n",
       "<style scoped>\n",
       "    .dataframe tbody tr th:only-of-type {\n",
       "        vertical-align: middle;\n",
       "    }\n",
       "\n",
       "    .dataframe tbody tr th {\n",
       "        vertical-align: top;\n",
       "    }\n",
       "\n",
       "    .dataframe thead th {\n",
       "        text-align: right;\n",
       "    }\n",
       "</style>\n",
       "<table border=\"1\" class=\"dataframe\">\n",
       "  <thead>\n",
       "    <tr style=\"text-align: right;\">\n",
       "      <th></th>\n",
       "      <th>tweet_id</th>\n",
       "      <th>airline_sentiment</th>\n",
       "      <th>airline_sentiment_confidence</th>\n",
       "      <th>negativereason</th>\n",
       "      <th>negativereason_confidence</th>\n",
       "      <th>airline</th>\n",
       "      <th>name</th>\n",
       "      <th>retweet_count</th>\n",
       "      <th>text</th>\n",
       "      <th>tweet_created</th>\n",
       "      <th>tweet_location</th>\n",
       "      <th>user_timezone</th>\n",
       "    </tr>\n",
       "  </thead>\n",
       "  <tbody>\n",
       "    <tr>\n",
       "      <th>0</th>\n",
       "      <td>Tr_tweet_1</td>\n",
       "      <td>neutral</td>\n",
       "      <td>1.0000</td>\n",
       "      <td>NaN</td>\n",
       "      <td>NaN</td>\n",
       "      <td>Virgin America</td>\n",
       "      <td>cairdin</td>\n",
       "      <td>0.0</td>\n",
       "      <td>@VirginAmerica What @dhepburn said.</td>\n",
       "      <td>2015-02-24 11:35:52 -0800</td>\n",
       "      <td>NaN</td>\n",
       "      <td>Eastern Time (US &amp; Canada)</td>\n",
       "    </tr>\n",
       "    <tr>\n",
       "      <th>1</th>\n",
       "      <td>Tr_tweet_2</td>\n",
       "      <td>positive</td>\n",
       "      <td>0.3486</td>\n",
       "      <td>NaN</td>\n",
       "      <td>0.0000</td>\n",
       "      <td>Virgin America</td>\n",
       "      <td>jnardino</td>\n",
       "      <td>0.0</td>\n",
       "      <td>@VirginAmerica plus you've added commercials t...</td>\n",
       "      <td>2015-02-24 11:15:59 -0800</td>\n",
       "      <td>NaN</td>\n",
       "      <td>Pacific Time (US &amp; Canada)</td>\n",
       "    </tr>\n",
       "    <tr>\n",
       "      <th>2</th>\n",
       "      <td>Tr_tweet_3</td>\n",
       "      <td>neutral</td>\n",
       "      <td>0.6837</td>\n",
       "      <td>NaN</td>\n",
       "      <td>NaN</td>\n",
       "      <td>Virgin America</td>\n",
       "      <td>yvonnalynn</td>\n",
       "      <td>0.0</td>\n",
       "      <td>@VirginAmerica I didn't today... Must mean I n...</td>\n",
       "      <td>2015-02-24 11:15:48 -0800</td>\n",
       "      <td>Lets Play</td>\n",
       "      <td>Central Time (US &amp; Canada)</td>\n",
       "    </tr>\n",
       "    <tr>\n",
       "      <th>3</th>\n",
       "      <td>Tr_tweet_4</td>\n",
       "      <td>negative</td>\n",
       "      <td>1.0000</td>\n",
       "      <td>Bad Flight</td>\n",
       "      <td>0.7033</td>\n",
       "      <td>Virgin America</td>\n",
       "      <td>jnardino</td>\n",
       "      <td>0.0</td>\n",
       "      <td>@VirginAmerica it's really aggressive to blast...</td>\n",
       "      <td>2015-02-24 11:15:36 -0800</td>\n",
       "      <td>NaN</td>\n",
       "      <td>Pacific Time (US &amp; Canada)</td>\n",
       "    </tr>\n",
       "    <tr>\n",
       "      <th>4</th>\n",
       "      <td>Tr_tweet_5</td>\n",
       "      <td>negative</td>\n",
       "      <td>1.0000</td>\n",
       "      <td>Can't Tell</td>\n",
       "      <td>1.0000</td>\n",
       "      <td>Virgin America</td>\n",
       "      <td>jnardino</td>\n",
       "      <td>0.0</td>\n",
       "      <td>@VirginAmerica and it's a really big bad thing...</td>\n",
       "      <td>2015-02-24 11:14:45 -0800</td>\n",
       "      <td>NaN</td>\n",
       "      <td>Pacific Time (US &amp; Canada)</td>\n",
       "    </tr>\n",
       "  </tbody>\n",
       "</table>\n",
       "</div>"
      ],
      "text/plain": [
       "     tweet_id airline_sentiment  airline_sentiment_confidence negativereason  \\\n",
       "0  Tr_tweet_1           neutral                        1.0000            NaN   \n",
       "1  Tr_tweet_2          positive                        0.3486            NaN   \n",
       "2  Tr_tweet_3           neutral                        0.6837            NaN   \n",
       "3  Tr_tweet_4          negative                        1.0000     Bad Flight   \n",
       "4  Tr_tweet_5          negative                        1.0000     Can't Tell   \n",
       "\n",
       "   negativereason_confidence         airline        name  retweet_count  \\\n",
       "0                        NaN  Virgin America     cairdin            0.0   \n",
       "1                     0.0000  Virgin America    jnardino            0.0   \n",
       "2                        NaN  Virgin America  yvonnalynn            0.0   \n",
       "3                     0.7033  Virgin America    jnardino            0.0   \n",
       "4                     1.0000  Virgin America    jnardino            0.0   \n",
       "\n",
       "                                                text  \\\n",
       "0                @VirginAmerica What @dhepburn said.   \n",
       "1  @VirginAmerica plus you've added commercials t...   \n",
       "2  @VirginAmerica I didn't today... Must mean I n...   \n",
       "3  @VirginAmerica it's really aggressive to blast...   \n",
       "4  @VirginAmerica and it's a really big bad thing...   \n",
       "\n",
       "               tweet_created tweet_location               user_timezone  \n",
       "0  2015-02-24 11:35:52 -0800            NaN  Eastern Time (US & Canada)  \n",
       "1  2015-02-24 11:15:59 -0800            NaN  Pacific Time (US & Canada)  \n",
       "2  2015-02-24 11:15:48 -0800      Lets Play  Central Time (US & Canada)  \n",
       "3  2015-02-24 11:15:36 -0800            NaN  Pacific Time (US & Canada)  \n",
       "4  2015-02-24 11:14:45 -0800            NaN  Pacific Time (US & Canada)  "
      ]
     },
     "execution_count": 4,
     "metadata": {},
     "output_type": "execute_result"
    }
   ],
   "source": [
    "tweet= pd.read_csv(\"C:\\\\Users\\\\shkatta\\\\Desktop\\\\AI\\\\csv files\\\\twitter.csv\")\n",
    "tweet.head()"
   ]
  },
  {
   "cell_type": "code",
   "execution_count": 5,
   "metadata": {},
   "outputs": [
    {
     "data": {
      "text/plain": [
       "(3339, 12)"
      ]
     },
     "execution_count": 5,
     "metadata": {},
     "output_type": "execute_result"
    }
   ],
   "source": [
    "tweet.shape"
   ]
  },
  {
   "cell_type": "code",
   "execution_count": 6,
   "metadata": {},
   "outputs": [
    {
     "data": {
      "text/plain": [
       "Text(0, 0.5, 'No. of Tweets')"
      ]
     },
     "execution_count": 6,
     "metadata": {},
     "output_type": "execute_result"
    },
    {
     "data": {
      "image/png": "[encoded data removed]",
      "text/plain": [
       "<Figure size 576x432 with 1 Axes>"
      ]
     },
     "metadata": {
      "needs_background": "light"
     },
     "output_type": "display_data"
    }
   ],
   "source": [
    "colors=sns.color_palette(\"husl\", 10) \n",
    "pd.Series(tweet[\"airline\"]).value_counts().plot(kind = \"bar\",\n",
    "                        color=colors,figsize=(8,6),fontsize=10,rot = 0, title = \"Total No. of Tweets for each Airlines\")\n",
    "plt.xlabel('Airlines', fontsize=10)\n",
    "plt.ylabel('No. of Tweets', fontsize=10)"
   ]
  },
  {
   "cell_type": "code",
   "execution_count": 7,
   "metadata": {},
   "outputs": [
    {
     "data": {
      "text/plain": [
       "Text(0, 0.5, 'No. of Tweets')"
      ]
     },
     "execution_count": 7,
     "metadata": {},
     "output_type": "execute_result"
    },
    {
     "data": {
      "image/png": "[encoded data removed]",
      "text/plain": [
       "<Figure size 576x432 with 1 Axes>"
      ]
     },
     "metadata": {
      "needs_background": "light"
     },
     "output_type": "display_data"
    }
   ],
   "source": [
    "#Plotting the number of each type of sentiments \n",
    "colors=sns.color_palette(\"husl\", 10)\n",
    "pd.Series(tweet[\"airline_sentiment\"]).value_counts().plot(kind = \"bar\",\n",
    "                                    color=colors,figsize=(8,6),rot=0, title = \"Total No. of Tweets for Each Sentiment\")\n",
    "plt.xlabel('Sentiments', fontsize=10)\n",
    "plt.ylabel('No. of Tweets', fontsize=10)"
   ]
  },
  {
   "cell_type": "code",
   "execution_count": 8,
   "metadata": {},
   "outputs": [
    {
     "data": {
      "text/plain": [
       "<matplotlib.axes._subplots.AxesSubplot at 0x2b9ff412240>"
      ]
     },
     "execution_count": 8,
     "metadata": {},
     "output_type": "execute_result"
    },
    {
     "data": {
      "image/png": "[encoded data removed]",
      "text/plain": [
       "<Figure size 432x432 with 1 Axes>"
      ]
     },
     "metadata": {},
     "output_type": "display_data"
    }
   ],
   "source": [
    "colors=sns.color_palette(\"husl\", 10)\n",
    "pd.Series(tweet[\"airline_sentiment\"]).value_counts().plot(kind=\"pie\",colors=colors,\n",
    "    labels=[\"negative\", \"neutral\", \"positive\"],explode=[0.05,0.02,0.04],\n",
    "    shadow=True,autopct='%.2f', fontsize=12,figsize=(6, 6),title = \"Total Tweets for Each Sentiment\")"
   ]
  },
  {
   "cell_type": "code",
   "execution_count": 9,
   "metadata": {},
   "outputs": [
    {
     "data": {
      "text/plain": [
       "Customer Service Issue         563\n",
       "Late Flight                    412\n",
       "Can't Tell                     304\n",
       "Lost Luggage                   207\n",
       "Bad Flight                     177\n",
       "Cancelled Flight               158\n",
       "Flight Attendant Complaints    132\n",
       "Flight Booking Problems        121\n",
       "longlines                       42\n",
       "Damaged Luggage                 18\n",
       "Name: negativereason, dtype: int64"
      ]
     },
     "execution_count": 9,
     "metadata": {},
     "output_type": "execute_result"
    }
   ],
   "source": [
    " tweet.negativereason.value_counts()"
   ]
  },
  {
   "cell_type": "code",
   "execution_count": 10,
   "metadata": {},
   "outputs": [
    {
     "data": {
      "text/plain": [
       "Text(0, 0.5, 'No. of Tweets')"
      ]
     },
     "execution_count": 10,
     "metadata": {},
     "output_type": "execute_result"
    },
    {
     "data": {
      "image/png": "[encoded data removed]",
      "text/plain": [
       "<Figure size 576x432 with 1 Axes>"
      ]
     },
     "metadata": {
      "needs_background": "light"
     },
     "output_type": "display_data"
    }
   ],
   "source": [
    "#Plotting all the negative reasons \n",
    "color=sns.color_palette(\"husl\", 10)\n",
    "pd.Series(tweet[\"negativereason\"]).value_counts().plot(kind = \"bar\",\n",
    "                        color=color,figsize=(8,6),title = \"Total Negative Reasons\")\n",
    "plt.xlabel('Negative Reasons', fontsize=10)\n",
    "plt.ylabel('No. of Tweets', fontsize=10)"
   ]
  },
  {
   "cell_type": "code",
   "execution_count": 11,
   "metadata": {},
   "outputs": [
    {
     "data": {
      "text/html": [
       "<div>\n",
       "<style scoped>\n",
       "    .dataframe tbody tr th:only-of-type {\n",
       "        vertical-align: middle;\n",
       "    }\n",
       "\n",
       "    .dataframe tbody tr th {\n",
       "        vertical-align: top;\n",
       "    }\n",
       "\n",
       "    .dataframe thead th {\n",
       "        text-align: right;\n",
       "    }\n",
       "</style>\n",
       "<table border=\"1\" class=\"dataframe\">\n",
       "  <thead>\n",
       "    <tr style=\"text-align: right;\">\n",
       "      <th>airline_sentiment</th>\n",
       "      <th>negative</th>\n",
       "      <th>neutral</th>\n",
       "      <th>positive</th>\n",
       "    </tr>\n",
       "    <tr>\n",
       "      <th>airline</th>\n",
       "      <th></th>\n",
       "      <th></th>\n",
       "      <th></th>\n",
       "    </tr>\n",
       "  </thead>\n",
       "  <tbody>\n",
       "    <tr>\n",
       "      <th>United</th>\n",
       "      <td>1969</td>\n",
       "      <td>531</td>\n",
       "      <td>384</td>\n",
       "    </tr>\n",
       "    <tr>\n",
       "      <th>Virgin America</th>\n",
       "      <td>165</td>\n",
       "      <td>148</td>\n",
       "      <td>141</td>\n",
       "    </tr>\n",
       "  </tbody>\n",
       "</table>\n",
       "</div>"
      ],
      "text/plain": [
       "airline_sentiment  negative  neutral  positive\n",
       "airline                                       \n",
       "United                 1969      531       384\n",
       "Virgin America          165      148       141"
      ]
     },
     "execution_count": 11,
     "metadata": {},
     "output_type": "execute_result"
    }
   ],
   "source": [
    "air_senti=pd.crosstab(tweet.airline, tweet.airline_sentiment)\n",
    "air_senti"
   ]
  },
  {
   "cell_type": "code",
   "execution_count": 12,
   "metadata": {},
   "outputs": [
    {
     "data": {
      "text/html": [
       "<div>\n",
       "<style scoped>\n",
       "    .dataframe tbody tr th:only-of-type {\n",
       "        vertical-align: middle;\n",
       "    }\n",
       "\n",
       "    .dataframe tbody tr th {\n",
       "        vertical-align: top;\n",
       "    }\n",
       "\n",
       "    .dataframe thead th {\n",
       "        text-align: right;\n",
       "    }\n",
       "</style>\n",
       "<table border=\"1\" class=\"dataframe\">\n",
       "  <thead>\n",
       "    <tr style=\"text-align: right;\">\n",
       "      <th>airline_sentiment</th>\n",
       "      <th>negative</th>\n",
       "      <th>neutral</th>\n",
       "      <th>positive</th>\n",
       "    </tr>\n",
       "    <tr>\n",
       "      <th>airline</th>\n",
       "      <th></th>\n",
       "      <th></th>\n",
       "      <th></th>\n",
       "    </tr>\n",
       "  </thead>\n",
       "  <tbody>\n",
       "    <tr>\n",
       "      <th>United</th>\n",
       "      <td>68.273232</td>\n",
       "      <td>18.411928</td>\n",
       "      <td>13.314840</td>\n",
       "    </tr>\n",
       "    <tr>\n",
       "      <th>Virgin America</th>\n",
       "      <td>36.343612</td>\n",
       "      <td>32.599119</td>\n",
       "      <td>31.057269</td>\n",
       "    </tr>\n",
       "  </tbody>\n",
       "</table>\n",
       "</div>"
      ],
      "text/plain": [
       "airline_sentiment   negative    neutral   positive\n",
       "airline                                           \n",
       "United             68.273232  18.411928  13.314840\n",
       "Virgin America     36.343612  32.599119  31.057269"
      ]
     },
     "execution_count": 12,
     "metadata": {},
     "output_type": "execute_result"
    }
   ],
   "source": [
    "percent=air_senti.apply(lambda a: a / a.sum() * 100, axis=1)\n",
    "percent"
   ]
  },
  {
   "cell_type": "code",
   "execution_count": 13,
   "metadata": {},
   "outputs": [
    {
     "data": {
      "text/plain": [
       "<matplotlib.axes._subplots.AxesSubplot at 0x2b9ff54b550>"
      ]
     },
     "execution_count": 13,
     "metadata": {},
     "output_type": "execute_result"
    },
    {
     "data": {
      "image/png": "[encoded data removed]",
      "text/plain": [
       "<Figure size 720x432 with 1 Axes>"
      ]
     },
     "metadata": {
      "needs_background": "light"
     },
     "output_type": "display_data"
    }
   ],
   "source": [
    "pd.crosstab(index = tweet[\"airline\"],columns = tweet[\"airline_sentiment\"]).plot(kind='bar',\n",
    "                figsize=(10, 6),alpha=0.5,rot=0,stacked=True,title=\"Airline Sentiment\")\n"
   ]
  },
  {
   "cell_type": "code",
   "execution_count": 14,
   "metadata": {},
   "outputs": [
    {
     "data": {
      "text/plain": [
       "<matplotlib.axes._subplots.AxesSubplot at 0x2b9ff4ec240>"
      ]
     },
     "execution_count": 14,
     "metadata": {},
     "output_type": "execute_result"
    },
    {
     "data": {
      "image/png": "[encoded data removed]",
      "text/plain": [
       "<Figure size 720x432 with 1 Axes>"
      ]
     },
     "metadata": {
      "needs_background": "light"
     },
     "output_type": "display_data"
    }
   ],
   "source": [
    "percent.plot(kind='bar',figsize=(10, 6),alpha=0.5,\n",
    "                rot=0,stacked=True,title=\"Airline Sentiment Percentage\")"
   ]
  },
  {
   "cell_type": "code",
   "execution_count": 21,
   "metadata": {
    "scrolled": true
   },
   "outputs": [
    {
     "data": {
      "text/plain": [
       "0       2015-02-24 11:35:52 -0800\n",
       "1       2015-02-24 11:15:59 -0800\n",
       "2       2015-02-24 11:15:48 -0800\n",
       "3       2015-02-24 11:15:36 -0800\n",
       "4       2015-02-24 11:14:45 -0800\n",
       "5       2015-02-24 11:14:33 -0800\n",
       "6       2015-02-24 11:13:57 -0800\n",
       "7       2015-02-24 11:11:19 -0800\n",
       "8       2015-02-24 10:53:27 -0800\n",
       "9                             NaN\n",
       "10                              p\n",
       "11      2015-02-24 10:15:29 -0800\n",
       "12      2015-02-24 10:01:50 -0800\n",
       "13      2015-02-24 09:42:59 -0800\n",
       "14      2015-02-24 09:15:00 -0800\n",
       "15      2015-02-24 09:04:10 -0800\n",
       "16      2015-02-24 08:55:56 -0800\n",
       "17      2015-02-24 08:49:01 -0800\n",
       "18      2015-02-24 08:30:15 -0800\n",
       "19                            NaN\n",
       "20      2015-02-24 08:18:51 -0800\n",
       "21      2015-02-24 07:49:15 -0800\n",
       "22      2015-02-24 07:11:37 -0800\n",
       "23      2015-02-24 05:44:59 -0800\n",
       "24      2015-02-24 05:05:28 -0800\n",
       "25      2015-02-23 23:34:30 -0800\n",
       "26      2015-02-23 22:52:29 -0800\n",
       "27      2015-02-23 21:35:43 -0800\n",
       "28      2015-02-23 21:10:41 -0800\n",
       "29      2015-02-23 20:55:30 -0800\n",
       "                  ...            \n",
       "3309    2015-02-18 15:32:25 -0800\n",
       "3310    2015-02-18 15:26:55 -0800\n",
       "3311    2015-02-18 15:25:12 -0800\n",
       "3312    2015-02-18 15:24:41 -0800\n",
       "3313    2015-02-18 15:20:49 -0800\n",
       "3314    2015-02-18 15:19:58 -0800\n",
       "3315    2015-02-18 15:17:43 -0800\n",
       "3316    2015-02-18 15:14:25 -0800\n",
       "3317    2015-02-18 15:13:30 -0800\n",
       "3318    2015-02-18 15:11:30 -0800\n",
       "3319    2015-02-18 15:11:24 -0800\n",
       "3320    2015-02-18 15:09:18 -0800\n",
       "3321    2015-02-18 15:08:35 -0800\n",
       "3322    2015-02-18 15:06:47 -0800\n",
       "3323    2015-02-18 15:06:41 -0800\n",
       "3324    2015-02-18 15:04:11 -0800\n",
       "3325    2015-02-18 15:02:04 -0800\n",
       "3326    2015-02-18 15:01:19 -0800\n",
       "3327                          NaN\n",
       "3328    2015-02-18 14:52:01 -0800\n",
       "3329    2015-02-18 14:50:33 -0800\n",
       "3330    2015-02-18 14:50:26 -0800\n",
       "3331    2015-02-18 14:49:28 -0800\n",
       "3332    2015-02-18 14:43:52 -0800\n",
       "3333    2015-02-18 14:43:11 -0800\n",
       "3334    2015-02-18 14:42:04 -0800\n",
       "3335    2015-02-18 14:40:23 -0800\n",
       "3336    2015-02-18 14:39:04 -0800\n",
       "3337    2015-02-18 14:37:52 -0800\n",
       "3338                          NaN\n",
       "Name: tweet_created, Length: 3339, dtype: object"
      ]
     },
     "execution_count": 21,
     "metadata": {},
     "output_type": "execute_result"
    }
   ],
   "source": [
    "tweet['tweet_created']=pd.Series(tweet['tweet_created'])\n",
    "tweet['tweet_created']"
   ]
  },
  {
   "cell_type": "code",
   "execution_count": 33,
   "metadata": {},
   "outputs": [
    {
     "data": {
      "text/plain": [
       "3     @VirginAmerica it's really aggressive to blast...\n",
       "4     @VirginAmerica and it's a really big bad thing...\n",
       "5     @VirginAmerica seriously would pay $30 a fligh...\n",
       "12        @VirginAmerica SFO-PDX schedule is still MIA.\n",
       "16    @VirginAmerica why are your first fares in May...\n",
       "20    @VirginAmerica you guys messed up my seating.....\n",
       "21    @VirginAmerica status match program.  I applie...\n",
       "22    @VirginAmerica What happened 2 ur vegan food o...\n",
       "Name: text, dtype: object"
      ]
     },
     "execution_count": 33,
     "metadata": {},
     "output_type": "execute_result"
    }
   ],
   "source": [
    "#visualization using wordcloud for the negative tweets\n",
    "df=tweet[tweet['airline_sentiment']=='negative']\n",
    "df['text'][:8]"
   ]
  },
  {
   "cell_type": "code",
   "execution_count": 41,
   "metadata": {},
   "outputs": [],
   "source": [
    "words=df['text']\n",
    "words=str(words)\n",
    "words=''.join(words)\n",
    "cleaned_word = \" \".join([word for word in words.split()\n",
    "                            if 'http' not in word\n",
    "                                and not word.startswith('@')\n",
    "                                and word != 'RT'])"
   ]
  },
  {
   "cell_type": "code",
   "execution_count": 42,
   "metadata": {},
   "outputs": [
    {
     "data": {
      "text/plain": [
       "\"3 it's really aggressive to blast... 4 and it's a really big bad thing... 5 seriously would pay $30 a fligh... 12 SFO-PDX schedule is still MIA. 16 why are your first fares in May... 20 you guys messed up my seating..... 21 status match program. I applie... 22 What happened 2 ur vegan food o... 24 amazing to me that we can't get... 26 hi! I just bked a cool birthday... 28 help, left expensive headphones... 29 awaiting my return phone call, ... 35 Your chat support is not workin... 37 Hey, first time flyer next week... 50 hi! i'm so excited about your $... 54 I called a 3-4 weeks ago about ... 59 heyyyy guyyyys.. been trying to... 60 Hi, Virgin! I'm on hold for 40-... 62 everything was fine until you l... 66 your airline is awesome but you... 70 what is going on with customer ... 72 why can't you supp the biz trav... 74 you're the best!! Whenever I (b... 75 I have no interesting flying wi... 76 it was a disappointing experien... 82 I like the TV and interesting v... 83 just landed in LAX, an hour aft... 85 Is it me, or is your website do... 86 I can't check in or add a bag. ... 87 What is your phone number. I ca... ... 3288 A change fee of $200. Same exact fligh... 3289 hello. I'm overseas &amp 3291 I knew I should've flew 3292 UA1641 EWR-MCO 17 Feb wifi never conn... 3296 My feedback and concerns via your site... 3297 just dropped bags at Newark. Your desk... 3299 It was quite enjoyable. 😊 \\\\r\\\\n\\\\r\\\\nExce... 3303 now we are trying to get to San Juan f... 3305 well sorta....we r trying to get to Aq... 3309 I'm still frustrated I gave up my sea... 3310 Not sure what happened MSP yesterday... 3313 it's almost like we're punished for li... 3315 thanks. Weather is understandable, but... 3317 no tag number. Luggage was taken off t... 3321 flying tomorrow from mexico to US. Mil... 3322 3 phone reps. None could see I was reb... 3323 a report was filed with the airport po... 3324 can't DM, you're not following. LLY144... 3325 the supervisor on situation- Stacey to... 3326 1 hour since boarding began and we're ... 3327 Tks for reply. PSP employees blamed La... 3328 took this one just for you. Not a wind... 3330 I find this text funny, considering we... 3331 #1007 Houston-Bogota with an engine pr... 3333 you have yourselves to blame for givin... 3334 idea: if u don't want us to be frustra... 3335 I will be patient in my luxurious midd... 3336 I will be patient as your agent explai... 3337 please help trace my luggage which was... 3338 NaN Name: text, Length: 2135, dtype: object\""
      ]
     },
     "execution_count": 42,
     "metadata": {},
     "output_type": "execute_result"
    }
   ],
   "source": [
    "cleaned_word"
   ]
  },
  {
   "cell_type": "code",
   "execution_count": null,
   "metadata": {},
   "outputs": [],
   "source": []
  }
 ],
 "metadata": {
  "kernelspec": {
   "display_name": "Python 3",
   "language": "python",
   "name": "python3"
  },
  "language_info": {
   "codemirror_mode": {
    "name": "ipython",
    "version": 3
   },
   "file_extension": ".py",
   "mimetype": "text/x-python",
   "name": "python",
   "nbconvert_exporter": "python",
   "pygments_lexer": "ipython3",
   "version": "3.7.3"
  }
 },
 "nbformat": 4,
 "nbformat_minor": 2
}
